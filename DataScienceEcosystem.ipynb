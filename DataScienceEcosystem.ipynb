{
 "cells": [
  {
   "cell_type": "markdown",
   "id": "1261185d-999a-40c3-a71c-08435e41cc2f",
   "metadata": {
    "tags": []
   },
   "source": [
    "# Data Science Tools and Ecosystem"
   ]
  },
  {
   "cell_type": "markdown",
   "id": "051ea6e2-c8c7-4100-81e9-fa927ff227d1",
   "metadata": {},
   "source": [
    "In this notebook, Data Science Tools and Ecosystem are summarized."
   ]
  },
  {
   "cell_type": "markdown",
   "id": "109eb87b-90b9-4533-b14c-02510604b930",
   "metadata": {},
   "source": [
    "1. Python\n",
    "2. R\n",
    "4. Java"
   ]
  },
  {
   "cell_type": "markdown",
   "id": "d22369cd-77fc-46f3-9669-c0f63cc13e2e",
   "metadata": {},
   "source": [
    "1. numpy\n",
    "2. scikit_learn\n",
    "3. ggplot\n",
    "4. cerat"
   ]
  },
  {
   "cell_type": "markdown",
   "id": "c35ad7ed-e21d-4fc1-935e-5641e09aec11",
   "metadata": {},
   "source": [
    "| Data Science Tools | \n",
    "| -------------| \n",
    "| Apache Spark  | \n",
    "| TensorFlow | \n",
    "| Microsoft Visual Studio |\n",
    "| R Studio |"
   ]
  },
  {
   "cell_type": "markdown",
   "id": "3b5cd20a-fba1-4ceb-a372-cf6695bab002",
   "metadata": {},
   "source": [
    "# Below are a few examples of evaluating arithmetic expressions in Python"
   ]
  },
  {
   "cell_type": "code",
   "execution_count": 3,
   "id": "5a325e4a-faa4-4351-a0d5-88bc5ec40ccb",
   "metadata": {
    "tags": []
   },
   "outputs": [
    {
     "data": {
      "text/plain": [
       "17"
      ]
     },
     "execution_count": 3,
     "metadata": {},
     "output_type": "execute_result"
    }
   ],
   "source": [
    "(3*4)+5"
   ]
  },
  {
   "cell_type": "code",
   "execution_count": 6,
   "id": "765c6607-07a7-46c4-8a2b-0e75e32907d4",
   "metadata": {
    "tags": []
   },
   "outputs": [
    {
     "data": {
      "text/plain": [
       "3.3333333333333335"
      ]
     },
     "execution_count": 6,
     "metadata": {},
     "output_type": "execute_result"
    }
   ],
   "source": [
    "200/60\n",
    "# This will convert 200 minutes to hours by diving by 60"
   ]
  },
  {
   "cell_type": "markdown",
   "id": "14ba29f7-b580-4c38-8c71-9820e565ccb6",
   "metadata": {},
   "source": [
    "## Author\n",
    "  Kaladhar Akula"
   ]
  },
  {
   "cell_type": "markdown",
   "id": "735b0924-096e-42c0-9440-26a448f97304",
   "metadata": {},
   "source": [
    "**Objectives:**\n",
    "- Learn Data Science\n",
    "- Get idea on relevant alogorithms\n",
    "- Get some idea on machine learning"
   ]
  },
  {
   "cell_type": "code",
   "execution_count": null,
   "id": "bec72d9a-4c7d-4a00-9087-a190b3fb16e2",
   "metadata": {},
   "outputs": [],
   "source": []
  }
 ],
 "metadata": {
  "kernelspec": {
   "display_name": "Python",
   "language": "python",
   "name": "conda-env-python-py"
  },
  "language_info": {
   "codemirror_mode": {
    "name": "ipython",
    "version": 3
   },
   "file_extension": ".py",
   "mimetype": "text/x-python",
   "name": "python",
   "nbconvert_exporter": "python",
   "pygments_lexer": "ipython3",
   "version": "3.7.12"
  }
 },
 "nbformat": 4,
 "nbformat_minor": 5
}
